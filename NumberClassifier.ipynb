{
 "cells": [
  {
   "cell_type": "markdown",
   "id": "a21e6c7a",
   "metadata": {},
   "source": [
    "# Machine Learning Project: Number Classifier\n",
    "### David García Allo - 21/02/2022 \n",
    "### Latest update: 14/07/2022\n",
    "#### Description\n",
    "Downloading the MNIST manuscrited numbers data, build a Support Vector Machine classifier that learns to identify $\\\\$\n",
    "manuscrited numbers with a determined accuraccy.  Adjust the parameters of the algorithm to obtain the best accuracy.\n",
    "#### External modules needed\n",
    "- numpy\n",
    "- matplotlib\n",
    "- sklearn \n",
    "- pandas (needed to obtain the downloaded data)\n",
    "#### Comments\n",
    "This program may take **several minutes** to finish, event without making a full GridSearch, this may be because the $\\\\$\n",
    "Support Vector Machine Classifier it's meant to small data and here we have large data so it's not very efficient."
   ]
  },
  {
   "cell_type": "markdown",
   "id": "f7510c1b",
   "metadata": {},
   "source": [
    "### Needed modules and functions"
   ]
  },
  {
   "cell_type": "code",
   "execution_count": null,
   "id": "d34dce7f",
   "metadata": {},
   "outputs": [],
   "source": [
    "import numpy as np\n",
    "import matplotlib.pyplot as plt\n",
    "import matplotlib.cm as cm\n",
    "from sklearn.datasets import fetch_openml\n",
    "from sklearn.model_selection import train_test_split\n",
    "from sklearn.preprocessing import scale\n",
    "from sklearn.svm import SVC\n",
    "from sklearn.model_selection import GridSearchCV\n",
    "from sklearn.metrics import accuracy_score"
   ]
  },
  {
   "cell_type": "markdown",
   "id": "e74b2d1e",
   "metadata": {},
   "source": [
    "### Download data"
   ]
  },
  {
   "cell_type": "code",
   "execution_count": null,
   "id": "0af82af5",
   "metadata": {},
   "outputs": [],
   "source": [
    "#Download the data\n",
    "mnist = fetch_openml('mnist_784', version=1, cache=True) #pandas needed here\n",
    "#Getting the data and the target values\n",
    "data   = mnist.data.values\n",
    "number = mnist.target.to_numpy() #Numbers are the labels of each data, i.e. the number of the data\n",
    "number = number.reshape(len(number), 1)"
   ]
  },
  {
   "cell_type": "markdown",
   "id": "26d81f5f",
   "metadata": {},
   "source": [
    "## Visualize the data"
   ]
  },
  {
   "cell_type": "code",
   "execution_count": null,
   "id": "3813a8b3",
   "metadata": {},
   "outputs": [],
   "source": [
    "for i in range(1,26):\n",
    "    plt.subplot(5,5,i)\n",
    "    plt.imshow(data[i].reshape((28,28)), cmap= cm.Greys_r)\n",
    "    plt.axis('off')\n",
    "plt.show()"
   ]
  },
  {
   "cell_type": "markdown",
   "id": "f37f0cf9",
   "metadata": {},
   "source": [
    "### Splitting Train and Test samples"
   ]
  },
  {
   "cell_type": "code",
   "execution_count": null,
   "id": "43463556",
   "metadata": {
    "scrolled": true
   },
   "outputs": [],
   "source": [
    "#Split Train and Test datasets\n",
    "fulldata = np.concatenate((data, number), axis=1)\n",
    "train, test = train_test_split(fulldata, test_size=0.2, random_state=42) #Size of the test datset - 20%\n",
    "#Train\n",
    "train_data  = np.delete(train, -1, 1)\n",
    "train_label = train[:,-1]\n",
    "#Test\n",
    "test_data   = np.delete(test, -1, 1)\n",
    "test_label  = test[:,-1]\n",
    "#Scale the data\n",
    "train_data = scale(train_data)\n",
    "test_data  = scale(test_data)"
   ]
  },
  {
   "cell_type": "markdown",
   "id": "db04f93e",
   "metadata": {},
   "source": [
    "### Training the algorithm and show some predictions on test sample"
   ]
  },
  {
   "cell_type": "code",
   "execution_count": null,
   "id": "d2f52f8a",
   "metadata": {},
   "outputs": [],
   "source": [
    "#Train the algorithm\n",
    "classifier = SVC(kernel='rbf', gamma='scale') #Our classification algorithm\n",
    "classifier.fit(train_data, train_label) #Training algo with our data\n",
    "#Show some predictions on test sample\n",
    "preds = classifier.predict(test_data[:50])\n",
    "print('Predicted Labels:\\n', preds)\n",
    "print('Real Labels:\\n', test_label[:50])"
   ]
  },
  {
   "cell_type": "markdown",
   "id": "78706fba",
   "metadata": {},
   "source": [
    "### Finding the best hyperparameters C, gamma"
   ]
  },
  {
   "cell_type": "code",
   "execution_count": null,
   "id": "430f1cd3",
   "metadata": {},
   "outputs": [],
   "source": [
    "params_ranges = {\"gamma\": np.linspace(0.0001,0.01,20), \"C\": np.linspace(3,10,14)} #Ranges to find the best caombination\n",
    "search_cv = GridSearchCV(classifier, params_ranges, n_jobs=8, verbose=1, cv=3) #Searching algorithm that we will use\n",
    "\"\"\"WARNING: The fit: search_cv.fit(train_data, train_label) may take several hours.\n",
    "I use only the first 5000 events so the GridSearch takes half an hour in my pc.\n",
    "For a fast run, consider that with 1000 events only takes 1 minute.\n",
    "I think if I do it with the total (56000) it will take several hours (quadratic scaling)\"\"\"\n",
    "search_cv.fit(train_data[:1000], train_label[:1000])\n",
    "print('Best Hyperparameters: ', search_cv.best_estimator_)\n",
    "print('Accuracy Score: ', search_cv.best_score_)"
   ]
  },
  {
   "cell_type": "markdown",
   "id": "a404dfdc",
   "metadata": {},
   "source": [
    "### Train the algorithm with the new hyperparameters and show acurraccy"
   ]
  },
  {
   "cell_type": "code",
   "execution_count": null,
   "id": "f28be06f",
   "metadata": {},
   "outputs": [],
   "source": [
    "#Train again the algorithm with the best estimators obtained\n",
    "classifier_best = SVC(kernel=\"rbf\", C=search_cv.best_params_['C'], gamma=search_cv.best_params_['gamma'])\n",
    "classifier_best.fit(train_data, train_label)\n",
    "#Obtain the accuracy on the test sample\n",
    "preds_best = classifier_best.predict(test_data)\n",
    "test_accuracy = accuracy_score(test_label, preds_best)\n",
    "print('Test Accuraccy: %.2f%%'%(test_accuracy*100))"
   ]
  }
 ],
 "metadata": {
  "kernelspec": {
   "display_name": "Python 3.10.5 64-bit",
   "language": "python",
   "name": "python3"
  },
  "language_info": {
   "codemirror_mode": {
    "name": "ipython",
    "version": 3
   },
   "file_extension": ".py",
   "mimetype": "text/x-python",
   "name": "python",
   "nbconvert_exporter": "python",
   "pygments_lexer": "ipython3",
   "version": "3.10.5"
  },
  "vscode": {
   "interpreter": {
    "hash": "c63d8c7d738c2960218a10995aedf0a7f67a49a231e71037adf0440953cdb45b"
   }
  }
 },
 "nbformat": 4,
 "nbformat_minor": 5
}
